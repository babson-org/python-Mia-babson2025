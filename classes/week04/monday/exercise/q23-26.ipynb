{
 "cells": [
  {
   "cell_type": "markdown",
   "metadata": {},
   "source": [
    "# 🧪 Lab 1 Reinforcement Exercises\n",
    "These exercises build on Lab 1 concepts: input handling, string manipulation, control flow, and basic algorithms.\n",
    "Each problem includes a full description and a code cell for your solution."
   ]
  },
  {
   "cell_type": "markdown",
   "metadata": {},
   "source": [
    "## 🟩 Exercise 25: Vowel and Consonant Counter\n",
    "**Problem:** Ask the user for a block of text. Count and display the number of vowels and consonants. Ignore non-letter characters.\n",
    "\n",
    "**Input:**\n",
    "- A string of text\n",
    "\n",
    "**Output:**\n",
    "- Number of vowels\n",
    "- Number of consonants"
   ]
  },
  {
   "cell_type": "code",
   "execution_count": null,
   "metadata": {},
   "outputs": [],
   "source": [
    "text = input(\"Enter a block of text: \")\n",
    "\n",
    "vowels = [\"a\",\"e\",\"i\",\"o\",\"u\"]\n",
    "vowel_count = 0\n",
    "consonant_count = 0\n",
    "\n",
    "for char in text.lower():\n",
    "    if char.isalpha():\n",
    "        if char in vowels:\n",
    "            vowel_count += 1\n",
    "        else:\n",
    "            consonant_count +=1\n",
    "\n",
    "print(\"# of vowels:\", vowel_count)\n",
    "\n",
    "print(\"# of consonants:\", consonant_count)"
   ]
  },
  {
   "cell_type": "markdown",
   "metadata": {},
   "source": [
    "## 🟩 Exercise 26: Longest Word Finder\n",
    "**Problem:** Ask the user for a sentence. Identify and print the longest word. Strip punctuation from words before comparing lengths.\n",
    "\n",
    "**Input:**\n",
    "- A sentence with words and punctuation\n",
    "\n",
    "**Output:**\n",
    "- The longest word (punctuation removed)"
   ]
  },
  {
   "cell_type": "code",
   "execution_count": null,
   "metadata": {},
   "outputs": [],
   "source": [
    "sentence = input(\"Enter a sentence:\")\n",
    "\n",
    "punctuation = [\".\",\"!\",\"?\",\",\",\":\",\"'\",\";\",\"()\"]\n",
    "\n",
    "clean_sentence = \"\"   #What does this do for the code?\n",
    "for char in sentence:\n",
    "    if char not in punctuation:\n",
    "        clean_sentence += char\n",
    "\n",
    "words = clean_sentence.split()\n",
    "\n",
    "longest_word = \"\"\n",
    "for word in words:\n",
    "    if len(word)>len(longest_word):\n",
    "        longest_word = word\n",
    "\n",
    "print(\"The longest word is\", longest_word)\n"
   ]
  },
  {
   "cell_type": "markdown",
   "metadata": {},
   "source": [
    "## 🟩 Exercise 27: Sentence Type Breakdown\n",
    "**Problem:** Ask the user for a block of text. Count how many sentences end with `.`, `?`, and `!`. Display a breakdown of sentence types.\n",
    "\n",
    "**Input:**\n",
    "- A block of text\n",
    "\n",
    "**Output:**\n",
    "- Total number of sentences\n",
    "- Number of declarative (.), interrogative (?), and exclamatory (!) sentences"
   ]
  },
  {
   "cell_type": "code",
   "execution_count": null,
   "metadata": {},
   "outputs": [],
   "source": [
    "text = input(\"Enter a block of text:\")\n",
    "\n",
    "declarative = 0\n",
    "interrogative = 0\n",
    "exclamatory = 0\n",
    "\n",
    "for char in text:\n",
    "    if char == \".\":\n",
    "        declarative +=1\n",
    "    elif char ==\"?\":\n",
    "        interrogative+=1\n",
    "    elif char == \"!\":\n",
    "        exclamatory+=1\n",
    "\n",
    "total_sentences = declarative + interrogative+exclamatory\n",
    "\n",
    "print(\"Number of sentences:\", total_sentences)\n",
    "print(\"Number of declarative sentences:\", declarative)\n",
    "print(\"Number of interrogative sentences:\", interrogative)\n",
    "print(\"Number of exclamatory sentences:\", exclamatory)"
   ]
  },
  {
   "cell_type": "markdown",
   "metadata": {},
   "source": [
    "## Exercise 28: Caesar Cipher Key Finder\n",
    "\n",
    "Objective: Write a program to decode a message when the key is unknown, using reasoning instead of trying all shifts.\n",
    "\n",
    "Scenario:\n",
    "-    You receive an encrypted message:\n",
    "-    Encrypted message: 'KHOOR ZRUOG'\n",
    "-    Hint: The first word is 'HELLO'\n",
    "  \n",
    "  \n",
    "Tasks:\n",
    "-    Identify the shift key\n",
    "-    Use the hint ('HELLO') to determine the number of positions the letters were shifted.\n",
    "-    Think: 'H' ? 'K', what shift was applied?\n",
    "-    Decode the full message\n",
    "-    Write a function decode_caesar(message, key) that takes the encrypted message and the key you found.\n",
    "-    Print the decrypted message."
   ]
  },
  {
   "cell_type": "code",
   "execution_count": null,
   "metadata": {},
   "outputs": [],
   "source": [
    "def decode_caesar(message, key):\n",
    "    alphabet = \"ABCDEFGHIJKLMNOPQRSTUVWXYZ\"\n",
    "    result = \"\"\n",
    "\n",
    "    for char in message:\n",
    "        if char in alphabet:\n",
    "            pos = alphabet.index(char)\n",
    "            new_pos = (pos-key)% 26\n",
    "            result  += alphabet[new_pos]\n",
    "        else:\n",
    "            result += char\n",
    "    return result\n",
    "\n",
    "encrypted = \"KHOOR ZROUG\"\n",
    "\n",
    "key = 3\n",
    "decrypted = decode_caesar(encrypted, key)\n",
    "\n",
    "print(\"Encrypted:\", encrypted)\n",
    "print(\"Key:\", key)\n",
    "print(\"Decrypted:\", decrypted)"
   ]
  }
 ],
 "metadata": {
  "kernelspec": {
   "display_name": "venv",
   "language": "python",
   "name": "python3"
  },
  "language_info": {
   "name": "python",
   "version": "3.10.18"
  }
 },
 "nbformat": 4,
 "nbformat_minor": 2
}
